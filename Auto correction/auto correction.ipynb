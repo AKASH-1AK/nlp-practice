{
 "cells": [
  {
   "cell_type": "markdown",
   "id": "a2243a30-25dc-4015-82a8-880ef547fba1",
   "metadata": {},
   "source": [
    "## importing the depended libraries"
   ]
  },
  {
   "cell_type": "code",
   "execution_count": 2,
   "id": "8794af30-f914-4c1e-8852-d8966b44184f",
   "metadata": {},
   "outputs": [
    {
     "name": "stdout",
     "output_type": "stream",
     "text": [
      "Collecting TextBlob\n",
      "  Downloading textblob-0.18.0.post0-py3-none-any.whl.metadata (4.5 kB)\n",
      "Requirement already satisfied: nltk>=3.8 in c:\\users\\akash\\anaconda3\\lib\\site-packages (from TextBlob) (3.8.1)\n",
      "Requirement already satisfied: click in c:\\users\\akash\\anaconda3\\lib\\site-packages (from nltk>=3.8->TextBlob) (8.1.7)\n",
      "Requirement already satisfied: joblib in c:\\users\\akash\\anaconda3\\lib\\site-packages (from nltk>=3.8->TextBlob) (1.2.0)\n",
      "Requirement already satisfied: regex>=2021.8.3 in c:\\users\\akash\\anaconda3\\lib\\site-packages (from nltk>=3.8->TextBlob) (2023.10.3)\n",
      "Requirement already satisfied: tqdm in c:\\users\\akash\\anaconda3\\lib\\site-packages (from nltk>=3.8->TextBlob) (4.65.0)\n",
      "Requirement already satisfied: colorama in c:\\users\\akash\\anaconda3\\lib\\site-packages (from click->nltk>=3.8->TextBlob) (0.4.6)\n",
      "Downloading textblob-0.18.0.post0-py3-none-any.whl (626 kB)\n",
      "   ---------------------------------------- 0.0/626.3 kB ? eta -:--:--\n",
      "    --------------------------------------- 10.2/626.3 kB ? eta -:--:--\n",
      "   ----- --------------------------------- 81.9/626.3 kB 919.0 kB/s eta 0:00:01\n",
      "   --------------- ------------------------ 245.8/626.3 kB 1.9 MB/s eta 0:00:01\n",
      "   ---------------------------------- ----- 542.7/626.3 kB 3.1 MB/s eta 0:00:01\n",
      "   ---------------------------------------- 626.3/626.3 kB 3.3 MB/s eta 0:00:00\n",
      "Installing collected packages: TextBlob\n",
      "Successfully installed TextBlob-0.18.0.post0\n",
      "Note: you may need to restart the kernel to use updated packages.\n"
     ]
    }
   ],
   "source": [
    "pip install TextBlob"
   ]
  },
  {
   "cell_type": "code",
   "execution_count": 4,
   "id": "e31e4c4d-7a50-48e6-bbdb-3bbae318c0f7",
   "metadata": {},
   "outputs": [
    {
     "name": "stdout",
     "output_type": "stream",
     "text": [
      "Wrong words : ['machne', 'Learnin']\n",
      "Corrected words are :\n",
      "machine Learning "
     ]
    }
   ],
   "source": [
    "from textblob import TextBlob\n",
    "words = [\"machne\",\"Learnin\"]\n",
    "corrected_words = []\n",
    "for i in words:\n",
    "    corrected_words.append(TextBlob(i))\n",
    "print(\"Wrong words :\",words)\n",
    "print(\"Corrected words are :\")\n",
    "for i in corrected_words:\n",
    "    print(i.correct(),end=\" \")"
   ]
  },
  {
   "cell_type": "code",
   "execution_count": null,
   "id": "f8a747b7-a5d9-4f62-974b-e26980441363",
   "metadata": {},
   "outputs": [],
   "source": []
  }
 ],
 "metadata": {
  "kernelspec": {
   "display_name": "Python 3 (ipykernel)",
   "language": "python",
   "name": "python3"
  },
  "language_info": {
   "codemirror_mode": {
    "name": "ipython",
    "version": 3
   },
   "file_extension": ".py",
   "mimetype": "text/x-python",
   "name": "python",
   "nbconvert_exporter": "python",
   "pygments_lexer": "ipython3",
   "version": "3.11.7"
  }
 },
 "nbformat": 4,
 "nbformat_minor": 5
}
